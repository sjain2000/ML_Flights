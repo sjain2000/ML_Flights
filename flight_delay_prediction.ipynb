{
  "cells": [
    {
      "cell_type": "markdown",
      "metadata": {
        "id": "view-in-github",
        "colab_type": "text"
      },
      "source": [
        "<a href=\"https://colab.research.google.com/github/sjain2000/ML_Flights/blob/master/flight_delay_prediction.ipynb\" target=\"_parent\"><img src=\"https://colab.research.google.com/assets/colab-badge.svg\" alt=\"Open In Colab\"/></a>"
      ]
    },
    {
      "cell_type": "code",
      "execution_count": null,
      "metadata": {
        "colab": {
          "base_uri": "https://localhost:8080/"
        },
        "id": "STPa5914urUW",
        "outputId": "1ce19851-e071-40e6-f551-1fbd4c77f428"
      },
      "outputs": [
        {
          "name": "stdout",
          "output_type": "stream",
          "text": [
            "Requirement already satisfied: pyspark in /usr/local/lib/python3.7/dist-packages (3.2.1)\n",
            "Requirement already satisfied: py4j==0.10.9.3 in /usr/local/lib/python3.7/dist-packages (from pyspark) (0.10.9.3)\n"
          ]
        }
      ],
      "source": [
        "pip install pyspark"
      ]
    },
    {
      "cell_type": "code",
      "execution_count": null,
      "metadata": {
        "colab": {
          "base_uri": "https://localhost:8080/"
        },
        "id": "99Z1Ozn4uy3x",
        "outputId": "ffcd9703-a178-454b-c39d-b02ac5ef805d"
      },
      "outputs": [
        {
          "name": "stderr",
          "output_type": "stream",
          "text": [
            "/usr/local/lib/python3.7/dist-packages/pyspark/sql/context.py:79: FutureWarning: Deprecated in 3.0.0. Use SparkSession.builder.getOrCreate() instead.\n",
            "  FutureWarning\n"
          ]
        }
      ],
      "source": [
        "import pyspark\n",
        "from pyspark import SparkContext\n",
        "from pyspark.sql import SQLContext\n",
        "from pyspark.sql.functions import col\n",
        "\n",
        "sc = SparkContext.getOrCreate()\n",
        "sqlCtx = SQLContext(sc)"
      ]
    },
    {
      "cell_type": "code",
      "execution_count": null,
      "metadata": {
        "id": "gT_2Bfr4vCdo"
      },
      "outputs": [],
      "source": [
        "import pandas as pd\n",
        "from matplotlib import pyplot as plt\n",
        "import numpy as np\n",
        "from pyspark.sql.functions import col\n",
        "from pyspark.ml.feature import VectorAssembler \n",
        "from pyspark.mllib.linalg import Vectors\n",
        "from pyspark.mllib.regression import LabeledPoint\n",
        "from pyspark.sql.types import DoubleType\n",
        "from pyspark.ml import Pipeline\n",
        "from pyspark.ml.feature import OneHotEncoder"
      ]
    },
    {
      "cell_type": "code",
      "execution_count": null,
      "metadata": {
        "id": "1uDWIrUGvFen"
      },
      "outputs": [],
      "source": [
        "flights_df = pd.read_csv(\"flight.csv\")"
      ]
    },
    {
      "cell_type": "code",
      "execution_count": null,
      "metadata": {
        "colab": {
          "base_uri": "https://localhost:8080/"
        },
        "id": "8HCvbN8GwfWG",
        "outputId": "db83ed61-89c6-4a1d-e9d4-71559af577a9"
      },
      "outputs": [
        {
          "data": {
            "text/plain": [
              "YEAR                      0\n",
              "MONTH                     0\n",
              "DAY                       0\n",
              "DAY_OF_WEEK               0\n",
              "AIRLINE                   0\n",
              "FLIGHT_NUMBER             0\n",
              "TAIL_NUMBER              13\n",
              "ORIGIN_AIRPORT            0\n",
              "DESTINATION_AIRPORT       0\n",
              "SCHEDULED_DEPARTURE       0\n",
              "DEPARTURE_TIME          388\n",
              "DEPARTURE_DELAY         388\n",
              "TAXI_OUT                389\n",
              "WHEELS_OFF              389\n",
              "SCHEDULED_TIME            0\n",
              "ELAPSED_TIME            407\n",
              "AIR_TIME                407\n",
              "DISTANCE                  0\n",
              "WHEELS_ON               395\n",
              "TAXI_IN                 395\n",
              "SCHEDULED_ARRIVAL         0\n",
              "ARRIVAL_TIME            395\n",
              "ARRIVAL_DELAY           407\n",
              "DIVERTED                  0\n",
              "CANCELLED                 0\n",
              "CANCELLATION_REASON    9607\n",
              "AIR_SYSTEM_DELAY       8272\n",
              "SECURITY_DELAY         8272\n",
              "AIRLINE_DELAY          8272\n",
              "LATE_AIRCRAFT_DELAY    8272\n",
              "WEATHER_DELAY          8272\n",
              "dtype: int64"
            ]
          },
          "execution_count": 55,
          "metadata": {},
          "output_type": "execute_result"
        }
      ],
      "source": [
        "flights_df.isnull().sum()"
      ]
    },
    {
      "cell_type": "code",
      "execution_count": null,
      "metadata": {
        "id": "ZeBTpakowhX7"
      },
      "outputs": [],
      "source": [
        "flights_agg = flights_df[['MONTH','DAY','DAY_OF_WEEK','AIRLINE','ORIGIN_AIRPORT',\n",
        "                          'SCHEDULED_DEPARTURE','SCHEDULED_TIME',\n",
        "                          'DISTANCE','SCHEDULED_ARRIVAL','DEPARTURE_DELAY']].copy()\n",
        "flights_agg = flights_agg.dropna(axis=0, how = \"any\")"
      ]
    },
    {
      "cell_type": "code",
      "execution_count": null,
      "metadata": {
        "colab": {
          "base_uri": "https://localhost:8080/"
        },
        "id": "xpB9ziUiwk29",
        "outputId": "9f20f1a8-cafb-487a-acee-921a73e13d15"
      },
      "outputs": [
        {
          "data": {
            "text/plain": [
              "MONTH                  0\n",
              "DAY                    0\n",
              "DAY_OF_WEEK            0\n",
              "AIRLINE                0\n",
              "ORIGIN_AIRPORT         0\n",
              "SCHEDULED_DEPARTURE    0\n",
              "SCHEDULED_TIME         0\n",
              "DISTANCE               0\n",
              "SCHEDULED_ARRIVAL      0\n",
              "DEPARTURE_DELAY        0\n",
              "dtype: int64"
            ]
          },
          "execution_count": 57,
          "metadata": {},
          "output_type": "execute_result"
        }
      ],
      "source": [
        "flights_agg.isnull().sum()"
      ]
    },
    {
      "cell_type": "code",
      "execution_count": null,
      "metadata": {
        "id": "Vm-W_Q1pwnhL"
      },
      "outputs": [],
      "source": [
        "flights_agg['DELAY'] = np.where(flights_agg['DEPARTURE_DELAY'] <= 0, 0, 1)"
      ]
    },
    {
      "cell_type": "code",
      "execution_count": null,
      "metadata": {
        "colab": {
          "base_uri": "https://localhost:8080/"
        },
        "id": "drdE-9ocwwsX",
        "outputId": "562f8b01-3a36-48e8-f4ac-ba6fd5c50e0e"
      },
      "outputs": [
        {
          "name": "stdout",
          "output_type": "stream",
          "text": [
            "0.6097180314223286 0.3902819685776714\n"
          ]
        }
      ],
      "source": [
        "no_delay = (flights_agg['DELAY'] == 0).sum()\n",
        "nobs = len(flights_agg['DELAY'])\n",
        "no_delay_perc = float(no_delay)/nobs\n",
        "delay_perc = 1 - no_delay_perc\n",
        "print(no_delay_perc, delay_perc)"
      ]
    },
    {
      "cell_type": "code",
      "execution_count": null,
      "metadata": {
        "id": "LsjQMxBgwyQc"
      },
      "outputs": [],
      "source": [
        "delay = nobs - no_delay\n",
        "no_delay_indices = flights_agg[flights_agg.DELAY == 0].index\n",
        "#undersamples no delays to equal same number of delays\n",
        "np.random.seed(5)\n",
        "random_indices = np.random.choice(no_delay_indices, delay, replace=False) \n",
        "no_delay_sample = flights_agg.loc[random_indices]"
      ]
    },
    {
      "cell_type": "code",
      "execution_count": null,
      "metadata": {
        "colab": {
          "base_uri": "https://localhost:8080/",
          "height": 427
        },
        "id": "CVDW11FZw0Ug",
        "outputId": "a9193c1c-16ef-4e8c-c0c1-da3dc3fbeccd"
      },
      "outputs": [
        {
          "data": {
            "text/html": [
              "\n",
              "  <div id=\"df-5dabc40b-fc2f-443e-8baa-dfd058835b77\">\n",
              "    <div class=\"colab-df-container\">\n",
              "      <div>\n",
              "<style scoped>\n",
              "    .dataframe tbody tr th:only-of-type {\n",
              "        vertical-align: middle;\n",
              "    }\n",
              "\n",
              "    .dataframe tbody tr th {\n",
              "        vertical-align: top;\n",
              "    }\n",
              "\n",
              "    .dataframe thead th {\n",
              "        text-align: right;\n",
              "    }\n",
              "</style>\n",
              "<table border=\"1\" class=\"dataframe\">\n",
              "  <thead>\n",
              "    <tr style=\"text-align: right;\">\n",
              "      <th></th>\n",
              "      <th>MONTH</th>\n",
              "      <th>DAY</th>\n",
              "      <th>DAY_OF_WEEK</th>\n",
              "      <th>AIRLINE</th>\n",
              "      <th>ORIGIN_AIRPORT</th>\n",
              "      <th>SCHEDULED_DEPARTURE</th>\n",
              "      <th>SCHEDULED_TIME</th>\n",
              "      <th>DISTANCE</th>\n",
              "      <th>SCHEDULED_ARRIVAL</th>\n",
              "      <th>DEPARTURE_DELAY</th>\n",
              "      <th>DELAY</th>\n",
              "    </tr>\n",
              "  </thead>\n",
              "  <tbody>\n",
              "    <tr>\n",
              "      <th>1781</th>\n",
              "      <td>1</td>\n",
              "      <td>1</td>\n",
              "      <td>4</td>\n",
              "      <td>WN</td>\n",
              "      <td>JAX</td>\n",
              "      <td>810</td>\n",
              "      <td>70</td>\n",
              "      <td>270</td>\n",
              "      <td>920</td>\n",
              "      <td>-5.0</td>\n",
              "      <td>0</td>\n",
              "    </tr>\n",
              "    <tr>\n",
              "      <th>3774</th>\n",
              "      <td>1</td>\n",
              "      <td>1</td>\n",
              "      <td>4</td>\n",
              "      <td>WN</td>\n",
              "      <td>BOI</td>\n",
              "      <td>1030</td>\n",
              "      <td>70</td>\n",
              "      <td>287</td>\n",
              "      <td>1040</td>\n",
              "      <td>-4.0</td>\n",
              "      <td>0</td>\n",
              "    </tr>\n",
              "    <tr>\n",
              "      <th>4679</th>\n",
              "      <td>1</td>\n",
              "      <td>1</td>\n",
              "      <td>4</td>\n",
              "      <td>US</td>\n",
              "      <td>CLT</td>\n",
              "      <td>1130</td>\n",
              "      <td>84</td>\n",
              "      <td>361</td>\n",
              "      <td>1254</td>\n",
              "      <td>-6.0</td>\n",
              "      <td>0</td>\n",
              "    </tr>\n",
              "    <tr>\n",
              "      <th>3506</th>\n",
              "      <td>1</td>\n",
              "      <td>1</td>\n",
              "      <td>4</td>\n",
              "      <td>DL</td>\n",
              "      <td>LAX</td>\n",
              "      <td>1010</td>\n",
              "      <td>110</td>\n",
              "      <td>590</td>\n",
              "      <td>1300</td>\n",
              "      <td>0.0</td>\n",
              "      <td>0</td>\n",
              "    </tr>\n",
              "    <tr>\n",
              "      <th>8837</th>\n",
              "      <td>1</td>\n",
              "      <td>1</td>\n",
              "      <td>4</td>\n",
              "      <td>OO</td>\n",
              "      <td>DTW</td>\n",
              "      <td>1550</td>\n",
              "      <td>76</td>\n",
              "      <td>229</td>\n",
              "      <td>1706</td>\n",
              "      <td>-1.0</td>\n",
              "      <td>0</td>\n",
              "    </tr>\n",
              "    <tr>\n",
              "      <th>7662</th>\n",
              "      <td>1</td>\n",
              "      <td>1</td>\n",
              "      <td>4</td>\n",
              "      <td>EV</td>\n",
              "      <td>JAN</td>\n",
              "      <td>1436</td>\n",
              "      <td>134</td>\n",
              "      <td>677</td>\n",
              "      <td>1650</td>\n",
              "      <td>-1.0</td>\n",
              "      <td>0</td>\n",
              "    </tr>\n",
              "    <tr>\n",
              "      <th>65</th>\n",
              "      <td>1</td>\n",
              "      <td>1</td>\n",
              "      <td>4</td>\n",
              "      <td>NK</td>\n",
              "      <td>BOS</td>\n",
              "      <td>510</td>\n",
              "      <td>140</td>\n",
              "      <td>738</td>\n",
              "      <td>730</td>\n",
              "      <td>-4.0</td>\n",
              "      <td>0</td>\n",
              "    </tr>\n",
              "    <tr>\n",
              "      <th>60</th>\n",
              "      <td>1</td>\n",
              "      <td>1</td>\n",
              "      <td>4</td>\n",
              "      <td>HA</td>\n",
              "      <td>HNL</td>\n",
              "      <td>502</td>\n",
              "      <td>42</td>\n",
              "      <td>163</td>\n",
              "      <td>544</td>\n",
              "      <td>-1.0</td>\n",
              "      <td>0</td>\n",
              "    </tr>\n",
              "    <tr>\n",
              "      <th>9992</th>\n",
              "      <td>1</td>\n",
              "      <td>1</td>\n",
              "      <td>4</td>\n",
              "      <td>HA</td>\n",
              "      <td>LAX</td>\n",
              "      <td>1705</td>\n",
              "      <td>350</td>\n",
              "      <td>2556</td>\n",
              "      <td>2055</td>\n",
              "      <td>-3.0</td>\n",
              "      <td>0</td>\n",
              "    </tr>\n",
              "    <tr>\n",
              "      <th>8270</th>\n",
              "      <td>1</td>\n",
              "      <td>1</td>\n",
              "      <td>4</td>\n",
              "      <td>DL</td>\n",
              "      <td>ATL</td>\n",
              "      <td>1515</td>\n",
              "      <td>66</td>\n",
              "      <td>214</td>\n",
              "      <td>1621</td>\n",
              "      <td>-1.0</td>\n",
              "      <td>0</td>\n",
              "    </tr>\n",
              "  </tbody>\n",
              "</table>\n",
              "</div>\n",
              "      <button class=\"colab-df-convert\" onclick=\"convertToInteractive('df-5dabc40b-fc2f-443e-8baa-dfd058835b77')\"\n",
              "              title=\"Convert this dataframe to an interactive table.\"\n",
              "              style=\"display:none;\">\n",
              "        \n",
              "  <svg xmlns=\"http://www.w3.org/2000/svg\" height=\"24px\"viewBox=\"0 0 24 24\"\n",
              "       width=\"24px\">\n",
              "    <path d=\"M0 0h24v24H0V0z\" fill=\"none\"/>\n",
              "    <path d=\"M18.56 5.44l.94 2.06.94-2.06 2.06-.94-2.06-.94-.94-2.06-.94 2.06-2.06.94zm-11 1L8.5 8.5l.94-2.06 2.06-.94-2.06-.94L8.5 2.5l-.94 2.06-2.06.94zm10 10l.94 2.06.94-2.06 2.06-.94-2.06-.94-.94-2.06-.94 2.06-2.06.94z\"/><path d=\"M17.41 7.96l-1.37-1.37c-.4-.4-.92-.59-1.43-.59-.52 0-1.04.2-1.43.59L10.3 9.45l-7.72 7.72c-.78.78-.78 2.05 0 2.83L4 21.41c.39.39.9.59 1.41.59.51 0 1.02-.2 1.41-.59l7.78-7.78 2.81-2.81c.8-.78.8-2.07 0-2.86zM5.41 20L4 18.59l7.72-7.72 1.47 1.35L5.41 20z\"/>\n",
              "  </svg>\n",
              "      </button>\n",
              "      \n",
              "  <style>\n",
              "    .colab-df-container {\n",
              "      display:flex;\n",
              "      flex-wrap:wrap;\n",
              "      gap: 12px;\n",
              "    }\n",
              "\n",
              "    .colab-df-convert {\n",
              "      background-color: #E8F0FE;\n",
              "      border: none;\n",
              "      border-radius: 50%;\n",
              "      cursor: pointer;\n",
              "      display: none;\n",
              "      fill: #1967D2;\n",
              "      height: 32px;\n",
              "      padding: 0 0 0 0;\n",
              "      width: 32px;\n",
              "    }\n",
              "\n",
              "    .colab-df-convert:hover {\n",
              "      background-color: #E2EBFA;\n",
              "      box-shadow: 0px 1px 2px rgba(60, 64, 67, 0.3), 0px 1px 3px 1px rgba(60, 64, 67, 0.15);\n",
              "      fill: #174EA6;\n",
              "    }\n",
              "\n",
              "    [theme=dark] .colab-df-convert {\n",
              "      background-color: #3B4455;\n",
              "      fill: #D2E3FC;\n",
              "    }\n",
              "\n",
              "    [theme=dark] .colab-df-convert:hover {\n",
              "      background-color: #434B5C;\n",
              "      box-shadow: 0px 1px 3px 1px rgba(0, 0, 0, 0.15);\n",
              "      filter: drop-shadow(0px 1px 2px rgba(0, 0, 0, 0.3));\n",
              "      fill: #FFFFFF;\n",
              "    }\n",
              "  </style>\n",
              "\n",
              "      <script>\n",
              "        const buttonEl =\n",
              "          document.querySelector('#df-5dabc40b-fc2f-443e-8baa-dfd058835b77 button.colab-df-convert');\n",
              "        buttonEl.style.display =\n",
              "          google.colab.kernel.accessAllowed ? 'block' : 'none';\n",
              "\n",
              "        async function convertToInteractive(key) {\n",
              "          const element = document.querySelector('#df-5dabc40b-fc2f-443e-8baa-dfd058835b77');\n",
              "          const dataTable =\n",
              "            await google.colab.kernel.invokeFunction('convertToInteractive',\n",
              "                                                     [key], {});\n",
              "          if (!dataTable) return;\n",
              "\n",
              "          const docLinkHtml = 'Like what you see? Visit the ' +\n",
              "            '<a target=\"_blank\" href=https://colab.research.google.com/notebooks/data_table.ipynb>data table notebook</a>'\n",
              "            + ' to learn more about interactive tables.';\n",
              "          element.innerHTML = '';\n",
              "          dataTable['output_type'] = 'display_data';\n",
              "          await google.colab.output.renderOutput(dataTable, element);\n",
              "          const docLink = document.createElement('div');\n",
              "          docLink.innerHTML = docLinkHtml;\n",
              "          element.appendChild(docLink);\n",
              "        }\n",
              "      </script>\n",
              "    </div>\n",
              "  </div>\n",
              "  "
            ],
            "text/plain": [
              "      MONTH  DAY  DAY_OF_WEEK AIRLINE ORIGIN_AIRPORT  SCHEDULED_DEPARTURE  \\\n",
              "1781      1    1            4      WN            JAX                  810   \n",
              "3774      1    1            4      WN            BOI                 1030   \n",
              "4679      1    1            4      US            CLT                 1130   \n",
              "3506      1    1            4      DL            LAX                 1010   \n",
              "8837      1    1            4      OO            DTW                 1550   \n",
              "7662      1    1            4      EV            JAN                 1436   \n",
              "65        1    1            4      NK            BOS                  510   \n",
              "60        1    1            4      HA            HNL                  502   \n",
              "9992      1    1            4      HA            LAX                 1705   \n",
              "8270      1    1            4      DL            ATL                 1515   \n",
              "\n",
              "      SCHEDULED_TIME  DISTANCE  SCHEDULED_ARRIVAL  DEPARTURE_DELAY  DELAY  \n",
              "1781              70       270                920             -5.0      0  \n",
              "3774              70       287               1040             -4.0      0  \n",
              "4679              84       361               1254             -6.0      0  \n",
              "3506             110       590               1300              0.0      0  \n",
              "8837              76       229               1706             -1.0      0  \n",
              "7662             134       677               1650             -1.0      0  \n",
              "65               140       738                730             -4.0      0  \n",
              "60                42       163                544             -1.0      0  \n",
              "9992             350      2556               2055             -3.0      0  \n",
              "8270              66       214               1621             -1.0      0  "
            ]
          },
          "execution_count": 61,
          "metadata": {},
          "output_type": "execute_result"
        }
      ],
      "source": [
        "no_delay_sample[:10]"
      ]
    },
    {
      "cell_type": "code",
      "execution_count": null,
      "metadata": {
        "id": "vGoJ6D4uw11T"
      },
      "outputs": [],
      "source": [
        "delay_sample = flights_agg[flights_agg.DELAY == 1] \n",
        "flights_agg_balanced = delay_sample.append(no_delay_sample)"
      ]
    },
    {
      "cell_type": "code",
      "execution_count": null,
      "metadata": {
        "id": "MIAcuONfw37V"
      },
      "outputs": [],
      "source": [
        "n = int(len(flights_agg_balanced)*0.10)\n",
        "flights_new_bal = flights_agg_balanced.sample(n, random_state = 314)"
      ]
    },
    {
      "cell_type": "code",
      "execution_count": null,
      "metadata": {
        "colab": {
          "base_uri": "https://localhost:8080/"
        },
        "id": "pHNcFSQdw6EX",
        "outputId": "354fd98c-c96c-4503-88e8-9155a50eb3c9"
      },
      "outputs": [
        {
          "name": "stdout",
          "output_type": "stream",
          "text": [
            "0.49733333333333335 0.5026666666666666\n"
          ]
        }
      ],
      "source": [
        "no_delay_bal = (flights_new_bal['DELAY'] == 0).sum()\n",
        "no_delay_perc_bal = float(no_delay_bal)/n\n",
        "delay_perc_bal = 1 - no_delay_perc_bal\n",
        "print(no_delay_perc_bal, delay_perc_bal)"
      ]
    },
    {
      "cell_type": "code",
      "execution_count": null,
      "metadata": {
        "id": "MfY6jeoEw75g"
      },
      "outputs": [],
      "source": [
        "flights = pd.read_csv(\"flight.csv\")"
      ]
    },
    {
      "cell_type": "code",
      "execution_count": null,
      "metadata": {
        "colab": {
          "base_uri": "https://localhost:8080/"
        },
        "id": "IHQJCtAAxOzf",
        "outputId": "62beb722-f044-4f57-ff81-a8240fa298f2"
      },
      "outputs": [
        {
          "name": "stdout",
          "output_type": "stream",
          "text": [
            "+-----+---+-----------+-------+--------------+-------------------+--------------+--------+-----------------+---------------+-----+\n",
            "|MONTH|DAY|DAY_OF_WEEK|AIRLINE|ORIGIN_AIRPORT|SCHEDULED_DEPARTURE|SCHEDULED_TIME|DISTANCE|SCHEDULED_ARRIVAL|DEPARTURE_DELAY|DELAY|\n",
            "+-----+---+-----------+-------+--------------+-------------------+--------------+--------+-----------------+---------------+-----+\n",
            "|    1|  1|          4|     DL|           ATL|               1539|            74|     259|             1653|           -1.0|    0|\n",
            "|    1|  1|          4|     EV|           RIC|               1047|            53|     100|             1140|           -6.0|    0|\n",
            "|    1|  1|          4|     EV|           IAH|               1032|            67|     216|             1139|           -5.0|    0|\n",
            "|    1|  1|          4|     UA|           EWR|                758|           181|     997|             1059|           -1.0|    0|\n",
            "|    1|  1|          4|     EV|           MCI|                550|           135|     643|              805|           -2.0|    0|\n",
            "+-----+---+-----------+-------+--------------+-------------------+--------------+--------+-----------------+---------------+-----+\n",
            "only showing top 5 rows\n",
            "\n"
          ]
        }
      ],
      "source": [
        "flight_df = sqlCtx.createDataFrame(flights_new_bal)\n",
        "flight_df.show(5)"
      ]
    },
    {
      "cell_type": "code",
      "execution_count": null,
      "metadata": {
        "colab": {
          "base_uri": "https://localhost:8080/",
          "height": 340
        },
        "id": "83dGlyczxh1C",
        "outputId": "139fd4c4-949d-4d62-911f-ad476649cdcf"
      },
      "outputs": [
        {
          "ename": "AnalysisException",
          "evalue": "ignored",
          "output_type": "error",
          "traceback": [
            "\u001b[0;31m---------------------------------------------------------------------------\u001b[0m",
            "\u001b[0;31mAnalysisException\u001b[0m                         Traceback (most recent call last)",
            "\u001b[0;32m<ipython-input-68-8955488fd050>\u001b[0m in \u001b[0;36m<module>\u001b[0;34m()\u001b[0m\n\u001b[0;32m----> 1\u001b[0;31m \u001b[0mflight_df\u001b[0m\u001b[0;34m.\u001b[0m\u001b[0mwrite\u001b[0m\u001b[0;34m.\u001b[0m\u001b[0mparquet\u001b[0m\u001b[0;34m(\u001b[0m\u001b[0;34m\"flight_df.parquet\"\u001b[0m\u001b[0;34m)\u001b[0m\u001b[0;34m\u001b[0m\u001b[0;34m\u001b[0m\u001b[0m\n\u001b[0m",
            "\u001b[0;32m/usr/local/lib/python3.7/dist-packages/pyspark/sql/readwriter.py\u001b[0m in \u001b[0;36mparquet\u001b[0;34m(self, path, mode, partitionBy, compression)\u001b[0m\n\u001b[1;32m    883\u001b[0m             \u001b[0mself\u001b[0m\u001b[0;34m.\u001b[0m\u001b[0mpartitionBy\u001b[0m\u001b[0;34m(\u001b[0m\u001b[0mpartitionBy\u001b[0m\u001b[0;34m)\u001b[0m\u001b[0;34m\u001b[0m\u001b[0;34m\u001b[0m\u001b[0m\n\u001b[1;32m    884\u001b[0m         \u001b[0mself\u001b[0m\u001b[0;34m.\u001b[0m\u001b[0m_set_opts\u001b[0m\u001b[0;34m(\u001b[0m\u001b[0mcompression\u001b[0m\u001b[0;34m=\u001b[0m\u001b[0mcompression\u001b[0m\u001b[0;34m)\u001b[0m\u001b[0;34m\u001b[0m\u001b[0;34m\u001b[0m\u001b[0m\n\u001b[0;32m--> 885\u001b[0;31m         \u001b[0mself\u001b[0m\u001b[0;34m.\u001b[0m\u001b[0m_jwrite\u001b[0m\u001b[0;34m.\u001b[0m\u001b[0mparquet\u001b[0m\u001b[0;34m(\u001b[0m\u001b[0mpath\u001b[0m\u001b[0;34m)\u001b[0m\u001b[0;34m\u001b[0m\u001b[0;34m\u001b[0m\u001b[0m\n\u001b[0m\u001b[1;32m    886\u001b[0m \u001b[0;34m\u001b[0m\u001b[0m\n\u001b[1;32m    887\u001b[0m     \u001b[0;32mdef\u001b[0m \u001b[0mtext\u001b[0m\u001b[0;34m(\u001b[0m\u001b[0mself\u001b[0m\u001b[0;34m,\u001b[0m \u001b[0mpath\u001b[0m\u001b[0;34m,\u001b[0m \u001b[0mcompression\u001b[0m\u001b[0;34m=\u001b[0m\u001b[0;32mNone\u001b[0m\u001b[0;34m,\u001b[0m \u001b[0mlineSep\u001b[0m\u001b[0;34m=\u001b[0m\u001b[0;32mNone\u001b[0m\u001b[0;34m)\u001b[0m\u001b[0;34m:\u001b[0m\u001b[0;34m\u001b[0m\u001b[0;34m\u001b[0m\u001b[0m\n",
            "\u001b[0;32m/usr/local/lib/python3.7/dist-packages/py4j/java_gateway.py\u001b[0m in \u001b[0;36m__call__\u001b[0;34m(self, *args)\u001b[0m\n\u001b[1;32m   1320\u001b[0m         \u001b[0manswer\u001b[0m \u001b[0;34m=\u001b[0m \u001b[0mself\u001b[0m\u001b[0;34m.\u001b[0m\u001b[0mgateway_client\u001b[0m\u001b[0;34m.\u001b[0m\u001b[0msend_command\u001b[0m\u001b[0;34m(\u001b[0m\u001b[0mcommand\u001b[0m\u001b[0;34m)\u001b[0m\u001b[0;34m\u001b[0m\u001b[0;34m\u001b[0m\u001b[0m\n\u001b[1;32m   1321\u001b[0m         return_value = get_return_value(\n\u001b[0;32m-> 1322\u001b[0;31m             answer, self.gateway_client, self.target_id, self.name)\n\u001b[0m\u001b[1;32m   1323\u001b[0m \u001b[0;34m\u001b[0m\u001b[0m\n\u001b[1;32m   1324\u001b[0m         \u001b[0;32mfor\u001b[0m \u001b[0mtemp_arg\u001b[0m \u001b[0;32min\u001b[0m \u001b[0mtemp_args\u001b[0m\u001b[0;34m:\u001b[0m\u001b[0;34m\u001b[0m\u001b[0;34m\u001b[0m\u001b[0m\n",
            "\u001b[0;32m/usr/local/lib/python3.7/dist-packages/pyspark/sql/utils.py\u001b[0m in \u001b[0;36mdeco\u001b[0;34m(*a, **kw)\u001b[0m\n\u001b[1;32m    115\u001b[0m                 \u001b[0;31m# Hide where the exception came from that shows a non-Pythonic\u001b[0m\u001b[0;34m\u001b[0m\u001b[0;34m\u001b[0m\u001b[0;34m\u001b[0m\u001b[0m\n\u001b[1;32m    116\u001b[0m                 \u001b[0;31m# JVM exception message.\u001b[0m\u001b[0;34m\u001b[0m\u001b[0;34m\u001b[0m\u001b[0;34m\u001b[0m\u001b[0m\n\u001b[0;32m--> 117\u001b[0;31m                 \u001b[0;32mraise\u001b[0m \u001b[0mconverted\u001b[0m \u001b[0;32mfrom\u001b[0m \u001b[0;32mNone\u001b[0m\u001b[0;34m\u001b[0m\u001b[0;34m\u001b[0m\u001b[0m\n\u001b[0m\u001b[1;32m    118\u001b[0m             \u001b[0;32melse\u001b[0m\u001b[0;34m:\u001b[0m\u001b[0;34m\u001b[0m\u001b[0;34m\u001b[0m\u001b[0m\n\u001b[1;32m    119\u001b[0m                 \u001b[0;32mraise\u001b[0m\u001b[0;34m\u001b[0m\u001b[0;34m\u001b[0m\u001b[0m\n",
            "\u001b[0;31mAnalysisException\u001b[0m: path file:/content/flight_df.parquet already exists."
          ]
        }
      ],
      "source": [
        "flight_df.write.parquet(\"flight_df.parquet\")"
      ]
    },
    {
      "cell_type": "code",
      "execution_count": null,
      "metadata": {
        "id": "E8PM8Z48xogk"
      },
      "outputs": [],
      "source": [
        "flight_df = sqlCtx.read.parquet(\"flight_df.parquet\")"
      ]
    },
    {
      "cell_type": "code",
      "execution_count": null,
      "metadata": {
        "colab": {
          "base_uri": "https://localhost:8080/"
        },
        "id": "RHxGhPMQxs6e",
        "outputId": "fe7b66fa-5785-493f-cd75-1b239db08ea4"
      },
      "outputs": [
        {
          "name": "stdout",
          "output_type": "stream",
          "text": [
            "+-----+---+-----------+-------+--------------+-------------------+--------------+--------+-----------------+---------------+-----+\n",
            "|MONTH|DAY|DAY_OF_WEEK|AIRLINE|ORIGIN_AIRPORT|SCHEDULED_DEPARTURE|SCHEDULED_TIME|DISTANCE|SCHEDULED_ARRIVAL|DEPARTURE_DELAY|DELAY|\n",
            "+-----+---+-----------+-------+--------------+-------------------+--------------+--------+-----------------+---------------+-----+\n",
            "|    1|  1|          4|     DL|           ATL|               1539|            74|     259|             1653|           -1.0|    0|\n",
            "|    1|  1|          4|     EV|           RIC|               1047|            53|     100|             1140|           -6.0|    0|\n",
            "|    1|  1|          4|     EV|           IAH|               1032|            67|     216|             1139|           -5.0|    0|\n",
            "|    1|  1|          4|     UA|           EWR|                758|           181|     997|             1059|           -1.0|    0|\n",
            "+-----+---+-----------+-------+--------------+-------------------+--------------+--------+-----------------+---------------+-----+\n",
            "only showing top 4 rows\n",
            "\n"
          ]
        }
      ],
      "source": [
        "flight_df.show(4)"
      ]
    },
    {
      "cell_type": "code",
      "execution_count": null,
      "metadata": {
        "id": "7TOj3PSkxuqW"
      },
      "outputs": [],
      "source": [
        "# Use OneHotEncoder to map categorical variables to binary vectors\n",
        "cat_columns = ['MONTH','DAY','DAY_OF_WEEK']\n",
        "encoders = [OneHotEncoder(inputCol=column, outputCol=column+\"_vec\") for column in cat_columns]\n",
        "pipelineOHE = Pipeline(stages=encoders)\n",
        "flight_df2 = pipelineOHE.fit(flight_df).transform(flight_df)"
      ]
    },
    {
      "cell_type": "code",
      "execution_count": null,
      "metadata": {
        "colab": {
          "base_uri": "https://localhost:8080/"
        },
        "id": "KI0WhbxNxwy5",
        "outputId": "f53e9ee4-8672-4cba-a5c7-ca86cc172d6b"
      },
      "outputs": [
        {
          "name": "stdout",
          "output_type": "stream",
          "text": [
            "+-----+---+-----------+-------+--------------+-------------------+--------------+--------+-----------------+---------------+-----+---------+---------+---------------+\n",
            "|MONTH|DAY|DAY_OF_WEEK|AIRLINE|ORIGIN_AIRPORT|SCHEDULED_DEPARTURE|SCHEDULED_TIME|DISTANCE|SCHEDULED_ARRIVAL|DEPARTURE_DELAY|DELAY|MONTH_vec|  DAY_vec|DAY_OF_WEEK_vec|\n",
            "+-----+---+-----------+-------+--------------+-------------------+--------------+--------+-----------------+---------------+-----+---------+---------+---------------+\n",
            "|    1|  1|          4|     DL|           ATL|               1539|            74|     259|             1653|           -1.0|    0|(1,[],[])|(1,[],[])|      (4,[],[])|\n",
            "|    1|  1|          4|     EV|           RIC|               1047|            53|     100|             1140|           -6.0|    0|(1,[],[])|(1,[],[])|      (4,[],[])|\n",
            "+-----+---+-----------+-------+--------------+-------------------+--------------+--------+-----------------+---------------+-----+---------+---------+---------------+\n",
            "only showing top 2 rows\n",
            "\n"
          ]
        }
      ],
      "source": [
        "flight_df2.show(2)"
      ]
    },
    {
      "cell_type": "code",
      "execution_count": null,
      "metadata": {
        "id": "lcr7VoNJxymU"
      },
      "outputs": [],
      "source": [
        "assembler = VectorAssembler(inputCols=['MONTH_vec', 'DAY_vec', 'DAY_OF_WEEK_vec',\n",
        "                                       'SCHEDULED_DEPARTURE', 'SCHEDULED_TIME', 'DISTANCE', \n",
        "                                       'SCHEDULED_ARRIVAL'], outputCol=\"features\")"
      ]
    },
    {
      "cell_type": "code",
      "execution_count": null,
      "metadata": {
        "id": "mDjxJPbkx1Ex"
      },
      "outputs": [],
      "source": [
        "# Apply vector assembler to data\n",
        "transformed = assembler.transform(flight_df2)"
      ]
    },
    {
      "cell_type": "code",
      "execution_count": null,
      "metadata": {
        "colab": {
          "base_uri": "https://localhost:8080/"
        },
        "id": "QHRVsJ2ex2qh",
        "outputId": "6c27fe41-8545-495b-94aa-61c8c9c5bc42"
      },
      "outputs": [
        {
          "name": "stdout",
          "output_type": "stream",
          "text": [
            "+-----+--------------------+\n",
            "|DELAY|            features|\n",
            "+-----+--------------------+\n",
            "|    0|(10,[6,7,8,9],[15...|\n",
            "|    0|(10,[6,7,8,9],[10...|\n",
            "|    0|(10,[6,7,8,9],[10...|\n",
            "|    0|(10,[6,7,8,9],[75...|\n",
            "|    0|(10,[6,7,8,9],[55...|\n",
            "+-----+--------------------+\n",
            "only showing top 5 rows\n",
            "\n"
          ]
        }
      ],
      "source": [
        "transformed.select(['DELAY', 'features']).show(5)"
      ]
    },
    {
      "cell_type": "code",
      "execution_count": null,
      "metadata": {
        "id": "AEqybMK9x4V8"
      },
      "outputs": [],
      "source": [
        "# Convert to RDD\n",
        "dataRDD = transformed.select(['DELAY','features']).rdd.map(tuple)"
      ]
    },
    {
      "cell_type": "code",
      "execution_count": null,
      "metadata": {
        "id": "w5gpfzvYx6V-"
      },
      "outputs": [],
      "source": [
        "# Map label to binary values, then convert to LabeledPoint\n",
        "lp = dataRDD.map(lambda row : (0 if row[0] == 0 else 1, Vectors.dense(row[1])))    \\\n",
        "            .map(lambda row : LabeledPoint(row[0], row[1]))"
      ]
    },
    {
      "cell_type": "code",
      "execution_count": null,
      "metadata": {
        "colab": {
          "base_uri": "https://localhost:8080/"
        },
        "id": "SnWMSxHQx7_w",
        "outputId": "0271677d-4a40-4346-d7d1-116fdaa6aee7"
      },
      "outputs": [
        {
          "data": {
            "text/plain": [
              "[LabeledPoint(0.0, [0.0,0.0,0.0,0.0,0.0,0.0,1539.0,74.0,259.0,1653.0]),\n",
              " LabeledPoint(0.0, [0.0,0.0,0.0,0.0,0.0,0.0,1047.0,53.0,100.0,1140.0]),\n",
              " LabeledPoint(0.0, [0.0,0.0,0.0,0.0,0.0,0.0,1032.0,67.0,216.0,1139.0]),\n",
              " LabeledPoint(0.0, [0.0,0.0,0.0,0.0,0.0,0.0,758.0,181.0,997.0,1059.0]),\n",
              " LabeledPoint(0.0, [0.0,0.0,0.0,0.0,0.0,0.0,550.0,135.0,643.0,805.0])]"
            ]
          },
          "execution_count": 78,
          "metadata": {},
          "output_type": "execute_result"
        }
      ],
      "source": [
        "lp.take(5)"
      ]
    },
    {
      "cell_type": "code",
      "execution_count": null,
      "metadata": {
        "id": "3PfS4Oh9x9RN"
      },
      "outputs": [],
      "source": [
        "split = lp.randomSplit([0.8, 0.2], 314)\n",
        "training = split[0]\n",
        "test = split[1]"
      ]
    },
    {
      "cell_type": "markdown",
      "metadata": {
        "id": "B7bgwJoMyRaN"
      },
      "source": [
        "LOGISTIC REGRESSION"
      ]
    },
    {
      "cell_type": "code",
      "execution_count": null,
      "metadata": {
        "id": "uTWsTbYix_Ud"
      },
      "outputs": [],
      "source": [
        "from pyspark.mllib.classification import LogisticRegressionWithLBFGS, LogisticRegressionModel"
      ]
    },
    {
      "cell_type": "code",
      "execution_count": null,
      "metadata": {
        "id": "1Wl0pN2gyBJk"
      },
      "outputs": [],
      "source": [
        "# Build model\n",
        "LR_model = LogisticRegressionWithLBFGS.train(training)"
      ]
    },
    {
      "cell_type": "code",
      "execution_count": null,
      "metadata": {
        "id": "YZwR-TXOyCpt"
      },
      "outputs": [],
      "source": [
        "# Evaluate model on training data\n",
        "LR_LAPtrain = training.map(lambda lp: (float(LR_model.predict(lp.features)), lp.label))"
      ]
    },
    {
      "cell_type": "code",
      "execution_count": null,
      "metadata": {
        "colab": {
          "base_uri": "https://localhost:8080/"
        },
        "id": "zjmZTsP_yF-m",
        "outputId": "e1be83fa-d0d9-4b39-c4f8-04de2c0f4316"
      },
      "outputs": [
        {
          "name": "stdout",
          "output_type": "stream",
          "text": [
            "0.5830564784053156\n"
          ]
        }
      ],
      "source": [
        "# Print training accuracy\n",
        "LR_accTrain = 1.0 * LR_LAPtrain.filter(lambda x:x[0] == x[1]).count()/training.count()\n",
        "print(LR_accTrain)"
      ]
    },
    {
      "cell_type": "code",
      "execution_count": null,
      "metadata": {
        "id": "brLtWwVXyGtX"
      },
      "outputs": [],
      "source": [
        "# Evaluate model on test data\n",
        "LR_LAP = test.map(lambda lp: (float(LR_model.predict(lp.features)), lp.label))\n"
      ]
    },
    {
      "cell_type": "code",
      "execution_count": null,
      "metadata": {
        "colab": {
          "base_uri": "https://localhost:8080/"
        },
        "id": "MFLy4_33yI2E",
        "outputId": "7e09a41d-05a3-4c94-9491-293b8a4dccbc"
      },
      "outputs": [
        {
          "name": "stdout",
          "output_type": "stream",
          "text": [
            "0.5878378378378378\n"
          ]
        }
      ],
      "source": [
        "# Print test accuracy\n",
        "LR_acc = 1.0 * LR_LAP.filter(lambda x:x[0] == x[1]).count()/test.count()\n",
        "print(LR_acc)"
      ]
    },
    {
      "cell_type": "markdown",
      "metadata": {
        "id": "9l9T16ClyMD_"
      },
      "source": [
        "RANDOM FOREST\n"
      ]
    },
    {
      "cell_type": "code",
      "execution_count": null,
      "metadata": {
        "id": "_oscc1UByKF5"
      },
      "outputs": [],
      "source": [
        "from pyspark.mllib.tree import RandomForest, RandomForestModel\n",
        "from pyspark.mllib.util import MLUtils\n",
        "from pyspark.ml.feature import StringIndexer\n",
        "from pyspark.ml.classification import RandomForestClassifier"
      ]
    },
    {
      "cell_type": "code",
      "execution_count": null,
      "metadata": {
        "id": "g3KcXQi0yOcJ"
      },
      "outputs": [],
      "source": [
        "# Build model\n",
        "RF_model = RandomForest.trainClassifier(training, numClasses = 2,\n",
        "                                       categoricalFeaturesInfo = {}, \n",
        "                                       numTrees = 5, featureSubsetStrategy = \"auto\", \n",
        "                                       impurity = 'gini', maxDepth = 4, maxBins = 32)"
      ]
    },
    {
      "cell_type": "code",
      "execution_count": null,
      "metadata": {
        "id": "bWd60H0KyVom"
      },
      "outputs": [],
      "source": [
        "# Evaluate model on training data\n",
        "RF_predtrain = RF_model.predict(training.map(lambda x: x.features))\n",
        "RF_LAPtrain = training.map(lambda lp: lp.label).zip(RF_predtrain)"
      ]
    },
    {
      "cell_type": "code",
      "execution_count": null,
      "metadata": {
        "colab": {
          "base_uri": "https://localhost:8080/"
        },
        "id": "nAnnLXe_yXQS",
        "outputId": "b2b33279-2f92-4295-a952-60ef957ce2df"
      },
      "outputs": [
        {
          "name": "stdout",
          "output_type": "stream",
          "text": [
            "0.6461794019933554\n"
          ]
        }
      ],
      "source": [
        "# Print training accuracy\n",
        "RF_trainAcc = RF_LAPtrain.filter(lambda x: x[0] == x[1]).count() / float(training.count())\n",
        "print(RF_trainAcc)"
      ]
    },
    {
      "cell_type": "code",
      "execution_count": null,
      "metadata": {
        "id": "RAospaSKyYdA"
      },
      "outputs": [],
      "source": [
        "# Evaluate model on test data\n",
        "RF_pred = RF_model.predict(test.map(lambda x: x.features))\n",
        "RF_LAP = test.map(lambda lp: lp.label).zip(RF_pred)"
      ]
    },
    {
      "cell_type": "code",
      "execution_count": null,
      "metadata": {
        "colab": {
          "base_uri": "https://localhost:8080/"
        },
        "id": "oWRPlydayZ-h",
        "outputId": "5831b81d-0135-48b7-81a8-67e0e320bcda"
      },
      "outputs": [
        {
          "name": "stdout",
          "output_type": "stream",
          "text": [
            "0.5608108108108109\n"
          ]
        }
      ],
      "source": [
        "# Print test accuracy\n",
        "RF_testAcc = RF_LAP.filter(lambda x: x[0] == x[1]).count() / float(test.count())\n",
        "print(RF_testAcc)"
      ]
    },
    {
      "cell_type": "markdown",
      "metadata": {
        "id": "bUyrlmYbyc_0"
      },
      "source": [
        "CROSS VALIDATION"
      ]
    },
    {
      "cell_type": "code",
      "execution_count": null,
      "metadata": {
        "colab": {
          "base_uri": "https://localhost:8080/"
        },
        "id": "Oe3EQhSFybfn",
        "outputId": "97d5519e-0bea-48a7-9dc1-eb842dd3e2cf"
      },
      "outputs": [
        {
          "name": "stdout",
          "output_type": "stream",
          "text": [
            "+-----+--------------------+\n",
            "|label|            features|\n",
            "+-----+--------------------+\n",
            "|  0.0|(10,[6,7,8,9],[15...|\n",
            "|  0.0|(10,[6,7,8,9],[10...|\n",
            "|  0.0|(10,[6,7,8,9],[10...|\n",
            "|  0.0|(10,[6,7,8,9],[75...|\n",
            "|  0.0|(10,[6,7,8,9],[55...|\n",
            "+-----+--------------------+\n",
            "only showing top 5 rows\n",
            "\n"
          ]
        }
      ],
      "source": [
        "# Prepare data for modeling\n",
        "flight_cv = transformed.select(['DELAY', 'features'])\n",
        "flight_cv = flight_cv.withColumnRenamed('DELAY', 'label')\n",
        "flight_cv = flight_cv.select(flight_cv.label.cast(DoubleType()).alias('label'), \n",
        "                                 'features')\n",
        "flight_cv.show(5)"
      ]
    },
    {
      "cell_type": "code",
      "execution_count": null,
      "metadata": {
        "id": "wRe4VzJKyfMS"
      },
      "outputs": [],
      "source": [
        "train_cv, test_cv = flight_cv.randomSplit([0.8, 0.2], 314)"
      ]
    },
    {
      "cell_type": "code",
      "execution_count": null,
      "metadata": {
        "id": "jIu9bwDNyg0C"
      },
      "outputs": [],
      "source": [
        "from pyspark.ml.classification import LogisticRegression\n",
        "from pyspark.ml.evaluation import BinaryClassificationEvaluator\n",
        "from pyspark.ml.tuning import CrossValidator, ParamGridBuilder"
      ]
    },
    {
      "cell_type": "code",
      "execution_count": null,
      "metadata": {
        "id": "Qj0420-hyjKl"
      },
      "outputs": [],
      "source": [
        "# Build model\n",
        "lr_k = LogisticRegression()"
      ]
    },
    {
      "cell_type": "code",
      "execution_count": null,
      "metadata": {
        "id": "tXQhxI6yykaF"
      },
      "outputs": [],
      "source": [
        "# Create grid of parameters\n",
        "grid_k = ParamGridBuilder().addGrid(lr_k.maxIter, [0, 1, 5, 10, 25]) \\\n",
        "                           .addGrid(lr_k.regParam, [0.1,0.01]) \\\n",
        "                           .addGrid(lr_k.fitIntercept, [False, True])\\\n",
        "                           .addGrid(lr_k.elasticNetParam, [0.0,0.3, 0.5,0.8, 1.0])\\\n",
        "                           .build()"
      ]
    },
    {
      "cell_type": "code",
      "execution_count": null,
      "metadata": {
        "id": "BfVrrAzgymDi"
      },
      "outputs": [],
      "source": [
        "evaluator_k = BinaryClassificationEvaluator()"
      ]
    },
    {
      "cell_type": "code",
      "execution_count": null,
      "metadata": {
        "id": "Wu31S9YfynZ4"
      },
      "outputs": [],
      "source": [
        "cv_lr = CrossValidator(estimator = lr_k, estimatorParamMaps = grid_k, evaluator = evaluator_k)"
      ]
    },
    {
      "cell_type": "code",
      "execution_count": null,
      "metadata": {
        "id": "ibUoOqciyoxr"
      },
      "outputs": [],
      "source": [
        "# Run cross-validation\n",
        "cvmodel_lr = cv_lr.fit(train_cv)"
      ]
    },
    {
      "cell_type": "code",
      "execution_count": null,
      "metadata": {
        "colab": {
          "base_uri": "https://localhost:8080/"
        },
        "id": "-jSOVPPsyqEU",
        "outputId": "429c9d9a-4e34-44ed-c238-c5f68b0dbeec"
      },
      "outputs": [
        {
          "data": {
            "text/plain": [
              "0.6410382945124361"
            ]
          },
          "execution_count": 102,
          "metadata": {},
          "output_type": "execute_result"
        }
      ],
      "source": [
        "# Evaluate tuned model on training data\n",
        "evaluator_k.evaluate(cvmodel_lr.transform(train_cv))"
      ]
    },
    {
      "cell_type": "code",
      "execution_count": null,
      "metadata": {
        "colab": {
          "base_uri": "https://localhost:8080/"
        },
        "id": "xR5RKLuzyt5i",
        "outputId": "2ac326f7-fd4a-47e7-8710-20d0ecca4efc"
      },
      "outputs": [
        {
          "data": {
            "text/plain": [
              "0.6070281503873041"
            ]
          },
          "execution_count": 103,
          "metadata": {},
          "output_type": "execute_result"
        }
      ],
      "source": [
        "# Evaluate tuned model on test data\n",
        "evaluator_k.evaluate(cvmodel_lr.transform(test_cv))"
      ]
    },
    {
      "cell_type": "code",
      "execution_count": null,
      "metadata": {
        "id": "zCkrClpbywVg"
      },
      "outputs": [],
      "source": [
        "from pyspark.ml.evaluation import MulticlassClassificationEvaluator\n",
        "from pyspark.ml.feature import VectorIndexer, IndexToString"
      ]
    },
    {
      "cell_type": "code",
      "execution_count": null,
      "metadata": {
        "id": "LKXUQkf-yykT"
      },
      "outputs": [],
      "source": [
        "labelIndexer = StringIndexer(inputCol = \"label\", \n",
        "                             outputCol = \"indexedLabel\").fit(flight_cv)"
      ]
    },
    {
      "cell_type": "code",
      "execution_count": null,
      "metadata": {
        "id": "YtcbTueKy0oC"
      },
      "outputs": [],
      "source": [
        "featureIndexer = VectorIndexer(inputCol=\"features\", \n",
        "                              outputCol=\"indexedFeatures\", \n",
        "                              maxCategories=4).fit(flight_cv)"
      ]
    },
    {
      "cell_type": "code",
      "execution_count": null,
      "metadata": {
        "id": "LqF-27toy1WO"
      },
      "outputs": [],
      "source": [
        "labelConverter = IndexToString(inputCol=\"prediction\",\n",
        "                               outputCol=\"predictedLabel\", \n",
        "                               labels=labelIndexer.labels)"
      ]
    },
    {
      "cell_type": "code",
      "execution_count": null,
      "metadata": {
        "id": "YWO5AP7Ky47l"
      },
      "outputs": [],
      "source": [
        "rf_k = RandomForestClassifier(labelCol = \"indexedLabel\", \n",
        "                              featuresCol = \"indexedFeatures\")"
      ]
    },
    {
      "cell_type": "code",
      "execution_count": null,
      "metadata": {
        "id": "_g62Ea76y8Hi"
      },
      "outputs": [],
      "source": [
        "evaluator_rf = MulticlassClassificationEvaluator(labelCol=\"indexedLabel\",\n",
        "                                                 predictionCol=\"prediction\",\n",
        "                                                metricName=\"accuracy\")\n",
        "numFolds = 5"
      ]
    },
    {
      "cell_type": "code",
      "execution_count": null,
      "metadata": {
        "id": "DwwbIVnqy-iI"
      },
      "outputs": [],
      "source": [
        "# Create grid of parameters\n",
        "grid_k_rf = ParamGridBuilder().addGrid(rf_k.numTrees, [5,10,25])\\\n",
        "                           .addGrid(rf_k.maxDepth, [3, 5,10,15])\\\n",
        "                           .addGrid(rf_k.maxBins, [5, 10, 20, 30])\\\n",
        "                           .build()"
      ]
    },
    {
      "cell_type": "code",
      "execution_count": null,
      "metadata": {
        "id": "ihv6q8pVzBZc"
      },
      "outputs": [],
      "source": [
        "# Create pipeline of transformers and estimators\n",
        "pipeline_rf = Pipeline(stages=[labelIndexer, \n",
        "                               featureIndexer,\n",
        "                               rf_k,\n",
        "                               labelConverter])"
      ]
    },
    {
      "cell_type": "code",
      "execution_count": null,
      "metadata": {
        "id": "Pvpopw_OzEkr"
      },
      "outputs": [],
      "source": [
        "# Treat pipeline as estimator in a CrossValidator instance.\n",
        "cv_rf = CrossValidator(estimator = pipeline_rf, \n",
        "                       estimatorParamMaps = grid_k_rf, \n",
        "                       evaluator = evaluator_rf, \n",
        "                       numFolds = numFolds)"
      ]
    },
    {
      "cell_type": "code",
      "execution_count": null,
      "metadata": {
        "colab": {
          "background_save": true
        },
        "id": "c7bEDFdtzI6Z"
      },
      "outputs": [],
      "source": [
        "# Run cross-validation\n",
        "cvmodel_rf = cv_rf.fit(train_cv)"
      ]
    },
    {
      "cell_type": "code",
      "execution_count": null,
      "metadata": {
        "colab": {
          "background_save": true
        },
        "id": "HFWmI_p7zL0b",
        "outputId": "10b2c7a6-11a8-418f-b770-27298e0e3139"
      },
      "outputs": [
        {
          "data": {
            "text/plain": [
              "0.6307947019867549"
            ]
          },
          "execution_count": null,
          "metadata": {},
          "output_type": "execute_result"
        }
      ],
      "source": [
        "# Evaluate tuned model on training data\n",
        "predictions_rf_train = cvmodel_rf.transform(train_cv)\n",
        "evaluator_rf.evaluate(predictions_rf_train)"
      ]
    },
    {
      "cell_type": "code",
      "execution_count": null,
      "metadata": {
        "colab": {
          "background_save": true
        },
        "id": "jxqhEedlzN0J"
      },
      "outputs": [],
      "source": [
        "# Evaluate tuned model on test data\n",
        "predictions_rf = cvmodel_rf.transform(test_cv)"
      ]
    },
    {
      "cell_type": "code",
      "execution_count": null,
      "metadata": {
        "colab": {
          "background_save": true
        },
        "id": "qy9SEd5vzQpg",
        "outputId": "3066e8b8-e750-45ac-cf40-d608e21fffa3"
      },
      "outputs": [
        {
          "name": "stdout",
          "output_type": "stream",
          "text": [
            "+--------------+-----+--------------------+\n",
            "|predictedLabel|label|            features|\n",
            "+--------------+-----+--------------------+\n",
            "|           0.0|  0.0|(10,[6,7,8,9],[60...|\n",
            "|           0.0|  0.0|(10,[6,7,8,9],[62...|\n",
            "|           0.0|  0.0|(10,[6,7,8,9],[64...|\n",
            "|           1.0|  0.0|(10,[6,7,8,9],[72...|\n",
            "|           0.0|  0.0|(10,[6,7,8,9],[73...|\n",
            "+--------------+-----+--------------------+\n",
            "only showing top 5 rows\n",
            "\n"
          ]
        }
      ],
      "source": [
        "predictions_rf.select(\"predictedLabel\", \"label\", \"features\").show(5)"
      ]
    },
    {
      "cell_type": "code",
      "execution_count": null,
      "metadata": {
        "colab": {
          "background_save": true
        },
        "id": "7ExAUowlzSdW",
        "outputId": "1bfebc4e-e6ef-4aaf-f99c-46009e2fc1b4"
      },
      "outputs": [
        {
          "data": {
            "text/plain": [
              "0.541095890410959"
            ]
          },
          "execution_count": null,
          "metadata": {},
          "output_type": "execute_result"
        }
      ],
      "source": [
        "evaluator_rf.evaluate(predictions_rf)"
      ]
    },
    {
      "cell_type": "code",
      "execution_count": null,
      "metadata": {
        "colab": {
          "background_save": true
        },
        "id": "bS-q11agzUsh",
        "outputId": "b1dec678-05c2-4824-8a4c-5441d108d115"
      },
      "outputs": [
        {
          "data": {
            "text/html": [
              "\n",
              "  <div id=\"df-d929f212-6a9b-4cc4-8e1b-7b2203e58226\">\n",
              "    <div class=\"colab-df-container\">\n",
              "      <div>\n",
              "<style scoped>\n",
              "    .dataframe tbody tr th:only-of-type {\n",
              "        vertical-align: middle;\n",
              "    }\n",
              "\n",
              "    .dataframe tbody tr th {\n",
              "        vertical-align: top;\n",
              "    }\n",
              "\n",
              "    .dataframe thead th {\n",
              "        text-align: right;\n",
              "    }\n",
              "</style>\n",
              "<table border=\"1\" class=\"dataframe\">\n",
              "  <thead>\n",
              "    <tr style=\"text-align: right;\">\n",
              "      <th></th>\n",
              "      <th>Logistic Regression</th>\n",
              "      <th>Random Forests</th>\n",
              "    </tr>\n",
              "  </thead>\n",
              "  <tbody>\n",
              "    <tr>\n",
              "      <th>Training Accuracy</th>\n",
              "      <td>0.589858</td>\n",
              "      <td>0.616704</td>\n",
              "    </tr>\n",
              "    <tr>\n",
              "      <th>Test Accuracy</th>\n",
              "      <td>0.612903</td>\n",
              "      <td>0.551320</td>\n",
              "    </tr>\n",
              "  </tbody>\n",
              "</table>\n",
              "</div>\n",
              "      <button class=\"colab-df-convert\" onclick=\"convertToInteractive('df-d929f212-6a9b-4cc4-8e1b-7b2203e58226')\"\n",
              "              title=\"Convert this dataframe to an interactive table.\"\n",
              "              style=\"display:none;\">\n",
              "        \n",
              "  <svg xmlns=\"http://www.w3.org/2000/svg\" height=\"24px\"viewBox=\"0 0 24 24\"\n",
              "       width=\"24px\">\n",
              "    <path d=\"M0 0h24v24H0V0z\" fill=\"none\"/>\n",
              "    <path d=\"M18.56 5.44l.94 2.06.94-2.06 2.06-.94-2.06-.94-.94-2.06-.94 2.06-2.06.94zm-11 1L8.5 8.5l.94-2.06 2.06-.94-2.06-.94L8.5 2.5l-.94 2.06-2.06.94zm10 10l.94 2.06.94-2.06 2.06-.94-2.06-.94-.94-2.06-.94 2.06-2.06.94z\"/><path d=\"M17.41 7.96l-1.37-1.37c-.4-.4-.92-.59-1.43-.59-.52 0-1.04.2-1.43.59L10.3 9.45l-7.72 7.72c-.78.78-.78 2.05 0 2.83L4 21.41c.39.39.9.59 1.41.59.51 0 1.02-.2 1.41-.59l7.78-7.78 2.81-2.81c.8-.78.8-2.07 0-2.86zM5.41 20L4 18.59l7.72-7.72 1.47 1.35L5.41 20z\"/>\n",
              "  </svg>\n",
              "      </button>\n",
              "      \n",
              "  <style>\n",
              "    .colab-df-container {\n",
              "      display:flex;\n",
              "      flex-wrap:wrap;\n",
              "      gap: 12px;\n",
              "    }\n",
              "\n",
              "    .colab-df-convert {\n",
              "      background-color: #E8F0FE;\n",
              "      border: none;\n",
              "      border-radius: 50%;\n",
              "      cursor: pointer;\n",
              "      display: none;\n",
              "      fill: #1967D2;\n",
              "      height: 32px;\n",
              "      padding: 0 0 0 0;\n",
              "      width: 32px;\n",
              "    }\n",
              "\n",
              "    .colab-df-convert:hover {\n",
              "      background-color: #E2EBFA;\n",
              "      box-shadow: 0px 1px 2px rgba(60, 64, 67, 0.3), 0px 1px 3px 1px rgba(60, 64, 67, 0.15);\n",
              "      fill: #174EA6;\n",
              "    }\n",
              "\n",
              "    [theme=dark] .colab-df-convert {\n",
              "      background-color: #3B4455;\n",
              "      fill: #D2E3FC;\n",
              "    }\n",
              "\n",
              "    [theme=dark] .colab-df-convert:hover {\n",
              "      background-color: #434B5C;\n",
              "      box-shadow: 0px 1px 3px 1px rgba(0, 0, 0, 0.15);\n",
              "      filter: drop-shadow(0px 1px 2px rgba(0, 0, 0, 0.3));\n",
              "      fill: #FFFFFF;\n",
              "    }\n",
              "  </style>\n",
              "\n",
              "      <script>\n",
              "        const buttonEl =\n",
              "          document.querySelector('#df-d929f212-6a9b-4cc4-8e1b-7b2203e58226 button.colab-df-convert');\n",
              "        buttonEl.style.display =\n",
              "          google.colab.kernel.accessAllowed ? 'block' : 'none';\n",
              "\n",
              "        async function convertToInteractive(key) {\n",
              "          const element = document.querySelector('#df-d929f212-6a9b-4cc4-8e1b-7b2203e58226');\n",
              "          const dataTable =\n",
              "            await google.colab.kernel.invokeFunction('convertToInteractive',\n",
              "                                                     [key], {});\n",
              "          if (!dataTable) return;\n",
              "\n",
              "          const docLinkHtml = 'Like what you see? Visit the ' +\n",
              "            '<a target=\"_blank\" href=https://colab.research.google.com/notebooks/data_table.ipynb>data table notebook</a>'\n",
              "            + ' to learn more about interactive tables.';\n",
              "          element.innerHTML = '';\n",
              "          dataTable['output_type'] = 'display_data';\n",
              "          await google.colab.output.renderOutput(dataTable, element);\n",
              "          const docLink = document.createElement('div');\n",
              "          docLink.innerHTML = docLinkHtml;\n",
              "          element.appendChild(docLink);\n",
              "        }\n",
              "      </script>\n",
              "    </div>\n",
              "  </div>\n",
              "  "
            ],
            "text/plain": [
              "                   Logistic Regression  Random Forests\n",
              "Training Accuracy             0.589858        0.616704\n",
              "Test Accuracy                 0.612903        0.551320"
            ]
          },
          "execution_count": null,
          "metadata": {},
          "output_type": "execute_result"
        }
      ],
      "source": [
        "results = pd.DataFrame(data={'Logistic Regression': [0.5898583146905294,0.6129032258064516],\n",
        "                             'Random Forests': [0.6167039522744221,0.5513196480938416],\n",
        "                             },\n",
        "                       index={'Training Accuracy',\n",
        "                              'Test Accuracy'})\n",
        "results"
      ]
    },
    {
      "cell_type": "code",
      "execution_count": null,
      "metadata": {
        "colab": {
          "background_save": true
        },
        "id": "IIN0VOB5zXm6",
        "outputId": "a83d8697-6c1e-45fc-b523-ebb4d9b14433"
      },
      "outputs": [
        {
          "data": {
            "text/html": [
              "\n",
              "  <div id=\"df-fab46253-7b6c-47bb-8393-74fb6e372fa5\">\n",
              "    <div class=\"colab-df-container\">\n",
              "      <div>\n",
              "<style scoped>\n",
              "    .dataframe tbody tr th:only-of-type {\n",
              "        vertical-align: middle;\n",
              "    }\n",
              "\n",
              "    .dataframe tbody tr th {\n",
              "        vertical-align: top;\n",
              "    }\n",
              "\n",
              "    .dataframe thead th {\n",
              "        text-align: right;\n",
              "    }\n",
              "</style>\n",
              "<table border=\"1\" class=\"dataframe\">\n",
              "  <thead>\n",
              "    <tr style=\"text-align: right;\">\n",
              "      <th></th>\n",
              "      <th>Logistic Regression</th>\n",
              "      <th>Random Forests</th>\n",
              "    </tr>\n",
              "  </thead>\n",
              "  <tbody>\n",
              "    <tr>\n",
              "      <th>Training Accuracy</th>\n",
              "      <td>0.640175</td>\n",
              "      <td>0.710546</td>\n",
              "    </tr>\n",
              "    <tr>\n",
              "      <th>Test Accuracy</th>\n",
              "      <td>0.614666</td>\n",
              "      <td>0.556522</td>\n",
              "    </tr>\n",
              "  </tbody>\n",
              "</table>\n",
              "</div>\n",
              "      <button class=\"colab-df-convert\" onclick=\"convertToInteractive('df-fab46253-7b6c-47bb-8393-74fb6e372fa5')\"\n",
              "              title=\"Convert this dataframe to an interactive table.\"\n",
              "              style=\"display:none;\">\n",
              "        \n",
              "  <svg xmlns=\"http://www.w3.org/2000/svg\" height=\"24px\"viewBox=\"0 0 24 24\"\n",
              "       width=\"24px\">\n",
              "    <path d=\"M0 0h24v24H0V0z\" fill=\"none\"/>\n",
              "    <path d=\"M18.56 5.44l.94 2.06.94-2.06 2.06-.94-2.06-.94-.94-2.06-.94 2.06-2.06.94zm-11 1L8.5 8.5l.94-2.06 2.06-.94-2.06-.94L8.5 2.5l-.94 2.06-2.06.94zm10 10l.94 2.06.94-2.06 2.06-.94-2.06-.94-.94-2.06-.94 2.06-2.06.94z\"/><path d=\"M17.41 7.96l-1.37-1.37c-.4-.4-.92-.59-1.43-.59-.52 0-1.04.2-1.43.59L10.3 9.45l-7.72 7.72c-.78.78-.78 2.05 0 2.83L4 21.41c.39.39.9.59 1.41.59.51 0 1.02-.2 1.41-.59l7.78-7.78 2.81-2.81c.8-.78.8-2.07 0-2.86zM5.41 20L4 18.59l7.72-7.72 1.47 1.35L5.41 20z\"/>\n",
              "  </svg>\n",
              "      </button>\n",
              "      \n",
              "  <style>\n",
              "    .colab-df-container {\n",
              "      display:flex;\n",
              "      flex-wrap:wrap;\n",
              "      gap: 12px;\n",
              "    }\n",
              "\n",
              "    .colab-df-convert {\n",
              "      background-color: #E8F0FE;\n",
              "      border: none;\n",
              "      border-radius: 50%;\n",
              "      cursor: pointer;\n",
              "      display: none;\n",
              "      fill: #1967D2;\n",
              "      height: 32px;\n",
              "      padding: 0 0 0 0;\n",
              "      width: 32px;\n",
              "    }\n",
              "\n",
              "    .colab-df-convert:hover {\n",
              "      background-color: #E2EBFA;\n",
              "      box-shadow: 0px 1px 2px rgba(60, 64, 67, 0.3), 0px 1px 3px 1px rgba(60, 64, 67, 0.15);\n",
              "      fill: #174EA6;\n",
              "    }\n",
              "\n",
              "    [theme=dark] .colab-df-convert {\n",
              "      background-color: #3B4455;\n",
              "      fill: #D2E3FC;\n",
              "    }\n",
              "\n",
              "    [theme=dark] .colab-df-convert:hover {\n",
              "      background-color: #434B5C;\n",
              "      box-shadow: 0px 1px 3px 1px rgba(0, 0, 0, 0.15);\n",
              "      filter: drop-shadow(0px 1px 2px rgba(0, 0, 0, 0.3));\n",
              "      fill: #FFFFFF;\n",
              "    }\n",
              "  </style>\n",
              "\n",
              "      <script>\n",
              "        const buttonEl =\n",
              "          document.querySelector('#df-fab46253-7b6c-47bb-8393-74fb6e372fa5 button.colab-df-convert');\n",
              "        buttonEl.style.display =\n",
              "          google.colab.kernel.accessAllowed ? 'block' : 'none';\n",
              "\n",
              "        async function convertToInteractive(key) {\n",
              "          const element = document.querySelector('#df-fab46253-7b6c-47bb-8393-74fb6e372fa5');\n",
              "          const dataTable =\n",
              "            await google.colab.kernel.invokeFunction('convertToInteractive',\n",
              "                                                     [key], {});\n",
              "          if (!dataTable) return;\n",
              "\n",
              "          const docLinkHtml = 'Like what you see? Visit the ' +\n",
              "            '<a target=\"_blank\" href=https://colab.research.google.com/notebooks/data_table.ipynb>data table notebook</a>'\n",
              "            + ' to learn more about interactive tables.';\n",
              "          element.innerHTML = '';\n",
              "          dataTable['output_type'] = 'display_data';\n",
              "          await google.colab.output.renderOutput(dataTable, element);\n",
              "          const docLink = document.createElement('div');\n",
              "          docLink.innerHTML = docLinkHtml;\n",
              "          element.appendChild(docLink);\n",
              "        }\n",
              "      </script>\n",
              "    </div>\n",
              "  </div>\n",
              "  "
            ],
            "text/plain": [
              "                   Logistic Regression  Random Forests\n",
              "Training Accuracy             0.640175        0.710546\n",
              "Test Accuracy                 0.614666        0.556522"
            ]
          },
          "execution_count": null,
          "metadata": {},
          "output_type": "execute_result"
        }
      ],
      "source": [
        "results_kfold = pd.DataFrame(data={'Logistic Regression': [0.6401754040204967,0.6146659497244257],\n",
        "                             'Random Forests': [0.7105459985041137,0.5565217391304348],\n",
        "                             },\n",
        "                       index={'Training Accuracy',\n",
        "                              'Test Accuracy'})\n",
        "results_kfold"
      ]
    },
    {
      "cell_type": "code",
      "execution_count": null,
      "metadata": {
        "colab": {
          "background_save": true
        },
        "id": "f64_2BHq1F5K"
      },
      "outputs": [],
      "source": [
        ""
      ]
    }
  ],
  "metadata": {
    "colab": {
      "collapsed_sections": [],
      "name": "flight delay prediction.ipynb",
      "provenance": [],
      "include_colab_link": true
    },
    "kernelspec": {
      "display_name": "Python 3",
      "name": "python3"
    },
    "language_info": {
      "name": "python"
    }
  },
  "nbformat": 4,
  "nbformat_minor": 0
}